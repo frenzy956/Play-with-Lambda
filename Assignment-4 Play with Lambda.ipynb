{
 "cells": [
  {
   "cell_type": "markdown",
   "id": "571af0d4",
   "metadata": {},
   "source": [
    "# Write a Python program to create a lambda function that adds 25 to a given number passed in as an argument."
   ]
  },
  {
   "cell_type": "markdown",
   "id": "5bad8592",
   "metadata": {},
   "source": [
    "### sample input: 10"
   ]
  },
  {
   "cell_type": "markdown",
   "id": "bc4c8ea3",
   "metadata": {},
   "source": [
    "### sample output: 35"
   ]
  },
  {
   "cell_type": "markdown",
   "id": "a7cb6fa5",
   "metadata": {},
   "source": [
    "--------"
   ]
  },
  {
   "cell_type": "code",
   "execution_count": 1,
   "id": "8ca06606",
   "metadata": {},
   "outputs": [
    {
     "name": "stdout",
     "output_type": "stream",
     "text": [
      "35\n"
     ]
    }
   ],
   "source": [
    "num = lambda a: a + 25\n",
    " \n",
    "print(num(10))"
   ]
  },
  {
   "cell_type": "markdown",
   "id": "0dc4bb01",
   "metadata": {},
   "source": [
    "-----"
   ]
  },
  {
   "cell_type": "code",
   "execution_count": 2,
   "id": "20fec0ee",
   "metadata": {},
   "outputs": [
    {
     "name": "stdout",
     "output_type": "stream",
     "text": [
      "35\n"
     ]
    }
   ],
   "source": [
    "num = lambda a,b: a + b\n",
    " \n",
    "print(num(10,25))"
   ]
  },
  {
   "cell_type": "code",
   "execution_count": null,
   "id": "706184d9",
   "metadata": {},
   "outputs": [],
   "source": []
  }
 ],
 "metadata": {
  "kernelspec": {
   "display_name": "Python 3 (ipykernel)",
   "language": "python",
   "name": "python3"
  },
  "language_info": {
   "codemirror_mode": {
    "name": "ipython",
    "version": 3
   },
   "file_extension": ".py",
   "mimetype": "text/x-python",
   "name": "python",
   "nbconvert_exporter": "python",
   "pygments_lexer": "ipython3",
   "version": "3.9.0b2"
  }
 },
 "nbformat": 4,
 "nbformat_minor": 5
}
